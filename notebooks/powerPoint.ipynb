{
 "cells": [
  {
   "cell_type": "code",
   "execution_count": 1,
   "metadata": {},
   "outputs": [],
   "source": [
    "from pptx import Presentation"
   ]
  },
  {
   "cell_type": "code",
   "execution_count": 2,
   "metadata": {},
   "outputs": [],
   "source": [
    "prs=Presentation()"
   ]
  },
  {
   "cell_type": "code",
   "execution_count": 3,
   "metadata": {},
   "outputs": [],
   "source": [
    "lyt=prs.slide_layouts[0] # choosing a slide layout\n",
    "slide=prs.slides.add_slide(lyt) # adding a slide\n",
    "title=slide.shapes.title # assigning a title\n",
    "subtitle=slide.placeholders[1] # placeholder for subtitle\n",
    "title.text=\"Hey,This is a Slide! How exciting!\" # title\n",
    "subtitle.text=\"Really?\" # subtitle\n",
    "prs.save(\"slide1.pptx\") # saving file"
   ]
  },
  {
   "cell_type": "code",
   "execution_count": 26,
   "metadata": {},
   "outputs": [],
   "source": [
    "test_json=\"\"\"\n",
    "{\n",
    "     \"title\": {\n",
    "        \"text\": \"Data Governance\",\n",
    "        \"x\": 10,\n",
    "        \"y\": 10\n",
    "    },\n",
    "    \"subtitle\": {\n",
    "        \"text\": \"What is it and why is it important?\",\n",
    "        \"x\": 10,\n",
    "        \"y\": 40\n",
    "    },\n",
    "    \"textbox\": [\n",
    "        {\n",
    "            \"text\": \"Data Governance is the process by which data is managed and monitored in an organization. It ensures that data is accurate, secure, and used properly.\",\n",
    "            \"x\": 10,\n",
    "            \"y\": 70\n",
    "        },\n",
    "        {\n",
    "            \"text\": \"Data Governance is important because it can help organizations achieve compliance, protect data integrity, and ensure data is used responsibly.\",\n",
    "            \"x\": 10,\n",
    "            \"y\": 120\n",
    "        }\n",
    "    ],\n",
    "    \"graphics\": [\n",
    "        {\n",
    "            \"position\": {\n",
    "                \"x\": 10,\n",
    "                \"y\": 190\n",
    "            },\n",
    "            \"size\": {\n",
    "                \"width\": 200,\n",
    "                \"height\": 200\n",
    "            },\n",
    "            \"description\": \"A diagram illustrating the components of a Data Governance system.\",\n",
    "            \"image\": \"test.png\"\n",
    "        },\n",
    "        {\n",
    "            \"position\": {\n",
    "                \"x\": 220,\n",
    "                \"y\": 190\n",
    "            },\n",
    "            \"size\": {\n",
    "                \"width\": 200,\n",
    "                \"height\": 200\n",
    "            },\n",
    "            \"description\": \"A diagram showing how Data Governance helps organizations manage data responsibly.\",\n",
    "            \"image\": \"test.png\"\n",
    "        }\n",
    "    ]\n",
    "}\n",
    "\"\"\""
   ]
  },
  {
   "cell_type": "code",
   "execution_count": 27,
   "metadata": {},
   "outputs": [],
   "source": [
    "import json\n",
    "from pptx import Presentation\n",
    "from pptx.util import Inches\n",
    "\n",
    "#read json from test_json string\n",
    "data = json.loads(test_json)\n",
    "\n",
    "#get the max x and y values\n",
    "max_x = 0\n",
    "max_y = 0\n",
    "for item in data['textbox']:\n",
    "    if item['x'] > max_x:\n",
    "        max_x = item['x']\n",
    "    if item['y'] > max_y:\n",
    "        max_y = item['y']\n",
    "\n",
    "for item in data['graphics']:\n",
    "    if item['position']['x']+item['size']['width'] > max_x:\n",
    "        max_x = item['position']['x']\n",
    "    if item['position']['y']+item['size']['height']  > max_y:\n",
    "        max_y = item['position']['y']\n",
    "\n"
   ]
  },
  {
   "cell_type": "code",
   "execution_count": null,
   "metadata": {},
   "outputs": [],
   "source": [
    "# Create a new PowerPoint presentation\n",
    "prs = Presentation()\n",
    "\n",
    "# Add a slide to the presentation\n",
    "slide = prs.slides.add_slide(prs.slide_layouts[0])\n",
    "\n",
    "# Get the slide width and height\n",
    "slide_width = 10\n",
    "slide_height = 8\n",
    "\n",
    "# Add the title to the slide\n",
    "title = slide.shapes.title\n",
    "title.text = data[\"title\"][\"text\"]\n",
    "title.left = Inches(data[\"title\"][\"x\"] / slide_width)\n",
    "title.top = Inches(data[\"title\"][\"y\"] / slide_height)\n",
    "\n",
    "# Add the subtitle to the slide\n",
    "subtitle = slide.placeholders[1]\n",
    "subtitle.text = data[\"subtitle\"][\"text\"]\n",
    "subtitle.left = Inches(data[\"subtitle\"][\"x\"] / slide_width)\n",
    "subtitle.top = Inches(data[\"subtitle\"][\"y\"] / slide_height)\n",
    "\n",
    "# Add the textboxes to the slide\n",
    "for textbox in data[\"textbox\"]:\n",
    "    tb = slide.shapes.add_textbox(Inches(textbox[\"x\"] / slide_width), Inches(textbox[\"y\"] / slide_height), width=Inches(5), height=Inches(5))\n",
    "    tb.text = textbox[\"text\"]\n",
    "\n",
    "# Add the graphics to the slide\n",
    "for graphic in data[\"graphics\"]:\n",
    "    img = slide.shapes.add_picture(graphic[\"image\"], Inches(graphic[\"position\"][\"x\"] / slide_width), Inches(graphic[\"position\"][\"y\"] / slide_height), width=Inches(graphic[\"size\"][\"width\"] / slide_width), height=Inches(graphic[\"size\"][\"height\"] / slide_height))\n",
    "\n",
    "# Save the PowerPoint presentation\n",
    "prs.save(\"presentation.pptx\")"
   ]
  }
 ],
 "metadata": {
  "kernelspec": {
   "display_name": ".venv",
   "language": "python",
   "name": "python3"
  },
  "language_info": {
   "codemirror_mode": {
    "name": "ipython",
    "version": 3
   },
   "file_extension": ".py",
   "mimetype": "text/x-python",
   "name": "python",
   "nbconvert_exporter": "python",
   "pygments_lexer": "ipython3",
   "version": "3.10.9 (main, Jan 15 2023, 13:45:03) [Clang 14.0.0 (clang-1400.0.29.202)]"
  },
  "orig_nbformat": 4,
  "vscode": {
   "interpreter": {
    "hash": "651a7a7d959555f8a2668768c65e9db3b04056775da94ca14af207014e9aaa90"
   }
  }
 },
 "nbformat": 4,
 "nbformat_minor": 2
}
